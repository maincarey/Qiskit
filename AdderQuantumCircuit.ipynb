{
  "nbformat": 4,
  "nbformat_minor": 0,
  "metadata": {
    "colab": {
      "name": "AdderQuantumCircuit.ipynb",
      "provenance": [],
      "collapsed_sections": [],
      "include_colab_link": true
    },
    "kernelspec": {
      "name": "python3",
      "display_name": "Python 3"
    }
  },
  "cells": [
    {
      "cell_type": "markdown",
      "metadata": {
        "id": "view-in-github",
        "colab_type": "text"
      },
      "source": [
        "<a href=\"https://colab.research.google.com/github/maincarey/Qiskit/blob/master/AdderQuantumCircuit.ipynb\" target=\"_parent\"><img src=\"https://colab.research.google.com/assets/colab-badge.svg\" alt=\"Open In Colab\"/></a>"
      ]
    },
    {
      "cell_type": "code",
      "metadata": {
        "id": "LLfBmoflYd5S",
        "colab_type": "code",
        "colab": {}
      },
      "source": [
        "pip install qiskit"
      ],
      "execution_count": 0,
      "outputs": []
    },
    {
      "cell_type": "code",
      "metadata": {
        "id": "T85Goh9aYW87",
        "colab_type": "code",
        "colab": {}
      },
      "source": [
        "import numpy as np\n",
        "from qiskit import *\n",
        "%matplotlib inline"
      ],
      "execution_count": 0,
      "outputs": []
    },
    {
      "cell_type": "code",
      "metadata": {
        "id": "NnzkE2bTYzZF",
        "colab_type": "code",
        "outputId": "b3cac640-675b-4b5a-c9e3-4c4984a0afe4",
        "colab": {
          "base_uri": "https://localhost:8080/",
          "height": 121
        }
      },
      "source": [
        "qiskit.__qiskit_version__"
      ],
      "execution_count": 0,
      "outputs": [
        {
          "output_type": "execute_result",
          "data": {
            "text/plain": [
              "{'qiskit': '0.12.0',\n",
              " 'qiskit-aer': '0.3.0',\n",
              " 'qiskit-aqua': '0.6.0',\n",
              " 'qiskit-ibmq-provider': '0.3.2',\n",
              " 'qiskit-ignis': '0.2.0',\n",
              " 'qiskit-terra': '0.9.0'}"
            ]
          },
          "metadata": {
            "tags": []
          },
          "execution_count": 7
        }
      ]
    },
    {
      "cell_type": "code",
      "metadata": {
        "id": "BfzDB8KyXcjg",
        "colab_type": "code",
        "colab": {}
      },
      "source": [
        "# Adder in Quantum Circuits\n",
        "\n",
        "from qiskit import QuantumRegister, ClassicalRegister, QuantumCircuit\n",
        "from qiskit import IBMQ, Aer, execute\n"
      ],
      "execution_count": 0,
      "outputs": []
    },
    {
      "cell_type": "code",
      "metadata": {
        "id": "jyuraPwUY9ff",
        "colab_type": "code",
        "colab": {}
      },
      "source": [
        "IBMQ.save_account('b3b9d548888672c0231398d220f168d661b13ecc22537b46beebaf51edcd5c3fad6258b1382c175cbd32269ab68811e6407c891cbaba42d02cc819ad50845310')"
      ],
      "execution_count": 0,
      "outputs": []
    },
    {
      "cell_type": "code",
      "metadata": {
        "id": "7bkofS5AY9vS",
        "colab_type": "code",
        "outputId": "d29258f7-8927-45ac-bee2-a843033c8617",
        "colab": {
          "base_uri": "https://localhost:8080/",
          "height": 35
        }
      },
      "source": [
        "IBMQ.load_account()"
      ],
      "execution_count": 0,
      "outputs": [
        {
          "output_type": "execute_result",
          "data": {
            "text/plain": [
              "<AccountProvider for IBMQ(hub='ibm-q', group='open', project='main')>"
            ]
          },
          "metadata": {
            "tags": []
          },
          "execution_count": 10
        }
      ]
    },
    {
      "cell_type": "code",
      "metadata": {
        "id": "h-Stw2rgY90S",
        "colab_type": "code",
        "outputId": "b42a87bb-d18a-49aa-cbd4-7b52229c30d5",
        "colab": {
          "base_uri": "https://localhost:8080/",
          "height": 95
        }
      },
      "source": [
        "# X Gate equates to a rotation around the X-axis of the Bloch sphere by $\\pi$ radians. It maps |0> to |1>、|1> to |0>\n",
        "q = QuantumRegister(1)\n",
        "qc = QuantumCircuit(q)\n",
        "qc.x(q[0])\n",
        "qc.draw(output='mpl')"
      ],
      "execution_count": 0,
      "outputs": [
        {
          "output_type": "execute_result",
          "data": {
            "image/png": "[encoded data removed]",
            "text/plain": [
              "<Figure size 184.212x84.28 with 1 Axes>"
            ]
          },
          "metadata": {
            "tags": []
          },
          "execution_count": 18
        }
      ]
    },
    {
      "cell_type": "code",
      "metadata": {
        "id": "8siTVYldY93K",
        "colab_type": "code",
        "outputId": "0656cfe2-2ce8-48d5-bef7-bf20d224bd66",
        "colab": {
          "base_uri": "https://localhost:8080/",
          "height": 95
        }
      },
      "source": [
        "# Z gate rotation around the Z-axis of the Bloch sphere by $\\pi$ radians. It is sometimes called a 'phase shift gate'.  |1> to |0>、|0> to |-1>\n",
        "q = QuantumRegister(1)\n",
        "qc = QuantumCircuit(q)\n",
        "qc.z(q[0])\n",
        "qc.draw(output='mpl')"
      ],
      "execution_count": 0,
      "outputs": [
        {
          "output_type": "execute_result",
          "data": {
            "image/png": "[encoded data removed]",
            "text/plain": [
              "<Figure size 184.212x84.28 with 1 Axes>"
            ]
          },
          "metadata": {
            "tags": []
          },
          "execution_count": 12
        }
      ]
    },
    {
      "cell_type": "code",
      "metadata": {
        "id": "LD-jDDn1YMOO",
        "colab_type": "code",
        "outputId": "1b3adeeb-65cd-4e1f-b371-73d099db0a0d",
        "colab": {
          "base_uri": "https://localhost:8080/",
          "height": 95
        }
      },
      "source": [
        "# H gate or Hadmard - 1 / square root 2   - |1> to |1>、|1> to |-1>\n",
        "q = QuantumRegister(1)\n",
        "qc = QuantumCircuit(q)\n",
        "qc.h(q[0])\n",
        "qc.draw(output='mpl')"
      ],
      "execution_count": 0,
      "outputs": [
        {
          "output_type": "execute_result",
          "data": {
            "image/png": "[encoded data removed]",
            "text/plain": [
              "<Figure size 184.212x84.28 with 1 Axes>"
            ]
          },
          "metadata": {
            "tags": []
          },
          "execution_count": 13
        }
      ]
    },
    {
      "cell_type": "code",
      "metadata": {
        "id": "_FxnbU7FaUQo",
        "colab_type": "code",
        "outputId": "a4041192-6538-4cac-a8a4-c2a0dd098bd4",
        "colab": {
          "base_uri": "https://localhost:8080/",
          "height": 141
        }
      },
      "source": [
        "# The controlled NOT gate (or CNOT or CX) acts on 2 qubits, and performs the NOT operation \n",
        "# (equivalent to applying an X gate) on the second qubit only when the first qubit is |1>, and otherwise leaves it unchanged.\n",
        "\n",
        "#  register is pulling 2 qubits here\n",
        "q = QuantumRegister(2)\n",
        "qc = QuantumCircuit(q)\n",
        "qc.cx(q[0],q[1])\n",
        "qc.draw(output='mpl')"
      ],
      "execution_count": 0,
      "outputs": [
        {
          "output_type": "execute_result",
          "data": {
            "image/png": "[encoded data removed]",
            "text/plain": [
              "<Figure size 227.556x144.48 with 1 Axes>"
            ]
          },
          "metadata": {
            "tags": []
          },
          "execution_count": 14
        }
      ]
    },
    {
      "cell_type": "code",
      "metadata": {
        "id": "2F2LMrhxal4u",
        "colab_type": "code",
        "outputId": "e55f08df-0ac5-4db8-f7dd-d54b5e071a46",
        "colab": {
          "base_uri": "https://localhost:8080/",
          "height": 141
        }
      },
      "source": [
        "#  The CZ gate acts on two qubits (each called a 'controlled bit' and a 'target bit'). \n",
        "# It flips the sign (equivalent to applying the phase shift Z gate) of the target qubit if and only if the control qubit is |1>.\n",
        "\n",
        "q = QuantumRegister(2)\n",
        "qc = QuantumCircuit(q)\n",
        "qc.cz(q[0],q[1])\n",
        "qc.draw(output='mpl')"
      ],
      "execution_count": 0,
      "outputs": [
        {
          "output_type": "execute_result",
          "data": {
            "image/png": "[encoded data removed]",
            "text/plain": [
              "<Figure size 227.556x144.48 with 1 Axes>"
            ]
          },
          "metadata": {
            "tags": []
          },
          "execution_count": 15
        }
      ]
    },
    {
      "cell_type": "code",
      "metadata": {
        "id": "eciFyMDha0UN",
        "colab_type": "code",
        "outputId": "f91320ff-3ba4-4276-a5e6-2030171e9241",
        "colab": {
          "base_uri": "https://localhost:8080/",
          "height": 141
        }
      },
      "source": [
        "# A CZ gate can also be constructed from a CX gate and H gate\n",
        "q = QuantumRegister(2)\n",
        "qc = QuantumCircuit(q)\n",
        "\n",
        "qc.h(q[1])\n",
        "qc.cx(q[0],q[1])\n",
        "qc.h(q[1])\n",
        "qc.draw(output='mpl')"
      ],
      "execution_count": 0,
      "outputs": [
        {
          "output_type": "execute_result",
          "data": {
            "image/png": "[encoded data removed]",
            "text/plain": [
              "<Figure size 347.956x144.48 with 1 Axes>"
            ]
          },
          "metadata": {
            "tags": []
          },
          "execution_count": 16
        }
      ]
    },
    {
      "cell_type": "code",
      "metadata": {
        "id": "4WjlhvI1a7K8",
        "colab_type": "code",
        "outputId": "e21443c9-432e-4b5d-a887-7113ced63376",
        "colab": {
          "base_uri": "https://localhost:8080/",
          "height": 185
        }
      },
      "source": [
        "# The CCX gate is also called a Toffoli gate. The CCX gate is a 3-bit gate, with two controls and one target as their input and output. \n",
        "# When if the first two bits are in the state |1> it applies a Pauli-X (or NOT) on the third bit, else it does nothing.\n",
        "q = QuantumRegister(3)\n",
        "qc = QuantumCircuit(q)\n",
        "qc.ccx(q[0],q[1],q[2])\n",
        "qc.draw(output='mpl')"
      ],
      "execution_count": 0,
      "outputs": [
        {
          "output_type": "execute_result",
          "data": {
            "image/png": "[encoded data removed]",
            "text/plain": [
              "<Figure size 227.556x204.68 with 1 Axes>"
            ]
          },
          "metadata": {
            "tags": []
          },
          "execution_count": 17
        }
      ]
    },
    {
      "cell_type": "code",
      "metadata": {
        "id": "N9S3r8p0bK6X",
        "colab_type": "code",
        "outputId": "56bc6640-26fc-44dd-dd54-7ae084528cc2",
        "colab": {
          "base_uri": "https://localhost:8080/",
          "height": 141
        }
      },
      "source": [
        "# a X gate can be consider as a NOT gate and measure\n",
        "\n",
        "q = QuantumRegister(1)\n",
        "c = ClassicalRegister(1)\n",
        "qc = QuantumCircuit(q,c)\n",
        "qc.x(q[0])\n",
        "qc.measure(q[0], c[0])\n",
        "qc.draw(output='mpl')"
      ],
      "execution_count": 0,
      "outputs": [
        {
          "output_type": "execute_result",
          "data": {
            "image/png": "[encoded data removed]",
            "text/plain": [
              "<Figure size 244.412x144.48 with 1 Axes>"
            ]
          },
          "metadata": {
            "tags": []
          },
          "execution_count": 19
        }
      ]
    },
    {
      "cell_type": "code",
      "metadata": {
        "id": "cWbOZ9h_cIjj",
        "colab_type": "code",
        "outputId": "3a4302dd-4e94-4ff3-de34-5633b0c6bc41",
        "colab": {
          "base_uri": "https://localhost:8080/",
          "height": 231
        }
      },
      "source": [
        "# With a CCX gate, the result of an AND gate for 2 controlled bits will be output to its target bit\n",
        "\n",
        "q = QuantumRegister(3)\n",
        "c = ClassicalRegister(1)\n",
        "qc = QuantumCircuit(q,c)\n",
        "qc.ccx(q[0], q[1], q[2])\n",
        "qc.measure(q[2], c[0])\n",
        "qc.draw(output='mpl')"
      ],
      "execution_count": 0,
      "outputs": [
        {
          "output_type": "execute_result",
          "data": {
            "image/png": "[encoded data removed]",
            "text/plain": [
              "<Figure size 287.756x264.88 with 1 Axes>"
            ]
          },
          "metadata": {
            "tags": []
          },
          "execution_count": 20
        }
      ]
    },
    {
      "cell_type": "code",
      "metadata": {
        "id": "D7Qhu5TgchoF",
        "colab_type": "code",
        "outputId": "86b9c1ed-e086-4b59-b9a6-111da5358c7a",
        "colab": {
          "base_uri": "https://localhost:8080/",
          "height": 231
        }
      },
      "source": [
        "# A NAND gate can be made by applying a NOT gate after applying an AND gate\n",
        "q = QuantumRegister(3)\n",
        "c = ClassicalRegister(1)\n",
        "qc = QuantumCircuit(q,c)\n",
        "qc.ccx(q[0], q[1], q[2])\n",
        "qc.x(q[2])\n",
        "qc.measure(q[2], c[0])\n",
        "qc.draw(output='mpl')"
      ],
      "execution_count": 0,
      "outputs": [
        {
          "output_type": "execute_result",
          "data": {
            "image/png": "[encoded data removed]",
            "text/plain": [
              "<Figure size 358.792x264.88 with 1 Axes>"
            ]
          },
          "metadata": {
            "tags": []
          },
          "execution_count": 21
        }
      ]
    },
    {
      "cell_type": "code",
      "metadata": {
        "id": "ZkAEZQ3kcn-l",
        "colab_type": "code",
        "outputId": "fb7f2e5e-d3ea-4ca5-e5e3-1e5a49e9fd1a",
        "colab": {
          "base_uri": "https://localhost:8080/",
          "height": 231
        }
      },
      "source": [
        "# OR Gate\n",
        "q = QuantumRegister(3)\n",
        "c = ClassicalRegister(1)\n",
        "qc = QuantumCircuit(q,c)\n",
        "\n",
        "qc.cx(q[1], q[2])\n",
        "qc.cx(q[0], q[2])\n",
        "qc.ccx(q[0], q[1], q[2])\n",
        "qc.measure(q[2], c[0])\n",
        "qc.draw(output='mpl')"
      ],
      "execution_count": 0,
      "outputs": [
        {
          "output_type": "execute_result",
          "data": {
            "image/png": "[encoded data removed]",
            "text/plain": [
              "<Figure size 418.992x264.88 with 1 Axes>"
            ]
          },
          "metadata": {
            "tags": []
          },
          "execution_count": 22
        }
      ]
    },
    {
      "cell_type": "code",
      "metadata": {
        "id": "Den3oY0zc5bg",
        "colab_type": "code",
        "outputId": "bac2d569-7d0a-4356-a7f7-99aca86ffbd1",
        "colab": {
          "base_uri": "https://localhost:8080/",
          "height": 231
        }
      },
      "source": [
        "# XOR Gate\n",
        "q = QuantumRegister(3)\n",
        "c = ClassicalRegister(1)\n",
        "qc = QuantumCircuit(q,c)\n",
        "qc.cx(q[1], q[2])\n",
        "qc.cx(q[0], q[2])\n",
        "qc.measure(q[2], c[0])\n",
        "qc.draw(output='mpl')"
      ],
      "execution_count": 0,
      "outputs": [
        {
          "output_type": "execute_result",
          "data": {
            "image/png": "[encoded data removed]",
            "text/plain": [
              "<Figure size 358.792x264.88 with 1 Axes>"
            ]
          },
          "metadata": {
            "tags": []
          },
          "execution_count": 23
        }
      ]
    },
    {
      "cell_type": "code",
      "metadata": {
        "id": "tY6gVE1FdCSD",
        "colab_type": "code",
        "outputId": "cc3a0c40-8b7f-46c5-dc48-0444a7f52f97",
        "colab": {
          "base_uri": "https://localhost:8080/",
          "height": 231
        }
      },
      "source": [
        "# NOR Gate\n",
        "q = QuantumRegister(3)\n",
        "c = ClassicalRegister(1)\n",
        "qc = QuantumCircuit(q,c)\n",
        "\n",
        "qc.cx(q[1], q[2])\n",
        "qc.cx(q[0], q[2])\n",
        "qc.ccx(q[0], q[1], q[2])\n",
        "qc.x(q[2])\n",
        "qc.measure(q[2], c[0])\n",
        "qc.draw(output='mpl')"
      ],
      "execution_count": 0,
      "outputs": [
        {
          "output_type": "execute_result",
          "data": {
            "image/png": "[encoded data removed]",
            "text/plain": [
              "<Figure size 479.192x264.88 with 1 Axes>"
            ]
          },
          "metadata": {
            "tags": []
          },
          "execution_count": 24
        }
      ]
    },
    {
      "cell_type": "code",
      "metadata": {
        "id": "wHznCsr3dLcl",
        "colab_type": "code",
        "colab": {}
      },
      "source": [
        ""
      ],
      "execution_count": 0,
      "outputs": []
    }
  ]
}